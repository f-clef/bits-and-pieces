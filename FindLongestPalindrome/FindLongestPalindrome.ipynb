{
 "cells": [
  {
   "cell_type": "markdown",
   "id": "b4d60ef3",
   "metadata": {},
   "source": [
    "# Overview\n",
    "\n",
    "This example finds the longest palindrome in a specified string. The algorithm visits every offset in the string and looks for a symmetric pattern of characters 'radiating' outwards from each offset. As such, the algorithm has a runtime complexity of O(N) where N ls the length of the string."
   ]
  },
  {
   "cell_type": "markdown",
   "id": "2c7ca0e2",
   "metadata": {},
   "source": [
    "# Implementation"
   ]
  },
  {
   "cell_type": "markdown",
   "id": "6db3b0e6",
   "metadata": {},
   "source": [
    "This utility function finds the longest palindrome at the specified offset by radiating outwards until it finds the largest symmetric character sequence."
   ]
  },
  {
   "cell_type": "code",
   "execution_count": 1,
   "id": "4e9d2f51",
   "metadata": {},
   "outputs": [],
   "source": [
    "def findLongestPalindromeAtOffset (input, offset):\n",
    "    assert input is not None and isinstance(input, str)\n",
    "    assert offset is not None and isinstance(offset, int)\n",
    "    assert (offset >= 0) and (offset < len(input))\n",
    "    \n",
    "    length = len(input)\n",
    "    ch = input[offset]\n",
    "    \n",
    "    # We need to handle the special case where the center of the\n",
    "    # palindrome is a repeating sequence of the same character.\n",
    "    # To do this, we decrement the left side offset until we reach\n",
    "    # the beginning of the input string or the first non-matching\n",
    "    # character.\n",
    "    left = offset - 1\n",
    "    while (left >= 0) and (input[left] == ch): left -= 1\n",
    "\n",
    "    # We repeat similar logic to find the right side offset.\n",
    "    right = offset + 1\n",
    "    while (right < length) and (input[right] == ch): right += 1\n",
    "\n",
    "    # Now we find the longest palindrome by radiating outwards\n",
    "    # until the left and right characters do not match.\n",
    "    while (left >= 0) and (right < length) and (input[left] == input[right]):\n",
    "        left -= 1\n",
    "        right += 1\n",
    "\n",
    "    # NOTE: the left side index is inclusive, so it needs adjustment.    \n",
    "    return input[(left + 1):right]\n"
   ]
  },
  {
   "cell_type": "markdown",
   "id": "78e17bc9",
   "metadata": {},
   "source": [
    "This next function finds the longest palindrome in the specified string by iterating over each offset in the specified string. As it proceeds, it keeps a reference to the largest palindrome found thus far."
   ]
  },
  {
   "cell_type": "code",
   "execution_count": 2,
   "id": "a1c79276",
   "metadata": {},
   "outputs": [],
   "source": [
    "def findLongestPalindrome (input):\n",
    "    assert input is not None and isinstance(input, str)\n",
    "    \n",
    "    longestPalindrome = ''\n",
    "    \n",
    "    for offset in range(len(input)):\n",
    "        palindrome = findLongestPalindromeAtOffset(input, offset)\n",
    "        if len(palindrome) > len(longestPalindrome): longestPalindrome = palindrome\n",
    "    \n",
    "    return longestPalindrome\n"
   ]
  },
  {
   "cell_type": "markdown",
   "id": "4f805218",
   "metadata": {},
   "source": [
    "Potential areas for further optimization:\n",
    "\n",
    "* Skip remaining offsets if the largest palindrome is twice the size of the remaining string.\n",
    "* Skip ahead after finding multi-character palindrome sequences.\n",
    "  - This optimization is likely to have strange cases to handle (e.g. right side of current palindrome is part of a larger palindrome further right in the input string).\n",
    "\n",
    "Neither potential optimization changes the runtime complexity of O(N)."
   ]
  },
  {
   "cell_type": "markdown",
   "id": "d841a835",
   "metadata": {},
   "source": [
    "# Test Cases"
   ]
  },
  {
   "cell_type": "code",
   "execution_count": 3,
   "id": "ab55ad33",
   "metadata": {},
   "outputs": [
    {
     "name": "stdout",
     "output_type": "stream",
     "text": [
      "All tests passed!\n"
     ]
    }
   ],
   "source": [
    "# multiple palindromes with longest on left\n",
    "assert 'abccba' == findLongestPalindrome('=> abccba; abcba; abba; aba; aa;')\n",
    "assert 'abcba' == findLongestPalindrome('=> abcba; abba; aba; aa;')\n",
    "assert 'abba' == findLongestPalindrome('=> abba; aba; aa;')\n",
    "assert 'aba' == findLongestPalindrome('=> aba; aa;')\n",
    "\n",
    "# multiple palindromes with longest on right\n",
    "assert 'abccba' == findLongestPalindrome('=> aa; aba; abba; abcba; abccba;')\n",
    "assert 'abcba' == findLongestPalindrome('=> aa; aba; abba; abcba;')\n",
    "assert 'abba' == findLongestPalindrome('=> aa; aba; abba;')\n",
    "assert 'aba' == findLongestPalindrome('=> aa; aba;')\n",
    "\n",
    "# multiple palindromes of same length\n",
    "#\n",
    "# NOTE: returning the leftmost palindrome is a behavioral artifact\n",
    "# of this specific implementation. Nonetheless, external clients\n",
    "# could become dependent on this behavior, so let's have a test\n",
    "# case for this.\n",
    "assert 'aba' == findLongestPalindrome('=> aba; bcb; cdc; ded; efe;')\n",
    "\n",
    "# continuous repeating sequence with odd-sized middle\n",
    "assert 'abcccba' == findLongestPalindrome('abcccba')   # bare\n",
    "assert 'abcccba' == findLongestPalindrome('abcccba!')  # left\n",
    "assert 'abcccba' == findLongestPalindrome('+abcccba')  # right\n",
    "assert 'abcccba' == findLongestPalindrome('+abcccba!') # interior\n",
    "\n",
    "# continuous repeating sequence with even-sized middle\n",
    "assert 'abccba' == findLongestPalindrome('abccba')   # bare\n",
    "assert 'abccba' == findLongestPalindrome('abccba!')  # left\n",
    "assert 'abccba' == findLongestPalindrome('+abccba')  # right\n",
    "assert 'abccba' == findLongestPalindrome('+abccba!') # interior\n",
    "\n",
    "# no repeating sequence in middle\n",
    "assert 'abcba' == findLongestPalindrome('abcba')   # bare\n",
    "assert 'abcba' == findLongestPalindrome('abcba!')  # left\n",
    "assert 'abcba' == findLongestPalindrome('+abcba')  # right\n",
    "assert 'abcba' == findLongestPalindrome('+abcba!') # interior\n",
    "\n",
    "# simple repeating sequence\n",
    "assert 'aa' == findLongestPalindrome('aa')   # bare\n",
    "assert 'aa' == findLongestPalindrome('aa!')  # left\n",
    "assert 'aa' == findLongestPalindrome('+aa')  # right\n",
    "assert 'aa' == findLongestPalindrome('+aa!') # interior\n",
    "\n",
    "# single character palindromes and empty string\n",
    "assert 'a' == findLongestPalindrome('abcde') # leftmost!\n",
    "assert 'a' == findLongestPalindrome('a')\n",
    "assert '' == findLongestPalindrome('')\n",
    "\n",
    "print ('All tests passed!')"
   ]
  },
  {
   "cell_type": "markdown",
   "id": "fcdb8bf4",
   "metadata": {},
   "source": [
    "# Sample Output"
   ]
  },
  {
   "cell_type": "code",
   "execution_count": 4,
   "id": "01bfaebe",
   "metadata": {},
   "outputs": [
    {
     "name": "stdout",
     "output_type": "stream",
     "text": [
      "abcba\n",
      "abccba\n",
      "!!!!!!!\n"
     ]
    }
   ],
   "source": [
    "print (findLongestPalindrome('<abcba> is a palindrome'))\n",
    "\n",
    "print (findLongestPalindrome('<abcba> is a palindrome, but <abccba> is longer!'))\n",
    "\n",
    "print (findLongestPalindrome('<abcba> is a palindrome, but <abccba> is longer!!!!!!!'))"
   ]
  },
  {
   "cell_type": "code",
   "execution_count": null,
   "id": "14ce1545",
   "metadata": {},
   "outputs": [],
   "source": []
  }
 ],
 "metadata": {
  "kernelspec": {
   "display_name": "Python 3 (ipykernel)",
   "language": "python",
   "name": "python3"
  },
  "language_info": {
   "codemirror_mode": {
    "name": "ipython",
    "version": 3
   },
   "file_extension": ".py",
   "mimetype": "text/x-python",
   "name": "python",
   "nbconvert_exporter": "python",
   "pygments_lexer": "ipython3",
   "version": "3.10.5"
  }
 },
 "nbformat": 4,
 "nbformat_minor": 5
}
